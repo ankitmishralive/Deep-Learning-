{
 "cells": [
  {
   "cell_type": "markdown",
   "metadata": {},
   "source": [
    "## Deep Neural Network "
   ]
  },
  {
   "cell_type": "code",
   "execution_count": 50,
   "metadata": {},
   "outputs": [],
   "source": [
    "import keras\n",
    "import numpy as np \n",
    "import pandas as pd "
   ]
  },
  {
   "cell_type": "code",
   "execution_count": 51,
   "metadata": {},
   "outputs": [],
   "source": [
    "df =pd.read_csv('./Corpus/HousingPrices.csv')"
   ]
  },
  {
   "cell_type": "code",
   "execution_count": 52,
   "metadata": {},
   "outputs": [
    {
     "data": {
      "text/html": [
       "<div>\n",
       "<style scoped>\n",
       "    .dataframe tbody tr th:only-of-type {\n",
       "        vertical-align: middle;\n",
       "    }\n",
       "\n",
       "    .dataframe tbody tr th {\n",
       "        vertical-align: top;\n",
       "    }\n",
       "\n",
       "    .dataframe thead th {\n",
       "        text-align: right;\n",
       "    }\n",
       "</style>\n",
       "<table border=\"1\" class=\"dataframe\">\n",
       "  <thead>\n",
       "    <tr style=\"text-align: right;\">\n",
       "      <th></th>\n",
       "      <th>YearBuilt</th>\n",
       "      <th>2ndFlrSF</th>\n",
       "      <th>GrLivArea</th>\n",
       "      <th>FullBath</th>\n",
       "      <th>HalfBath</th>\n",
       "      <th>BedroomAbvGr</th>\n",
       "      <th>TotRmsAbvGrd</th>\n",
       "      <th>YrSold</th>\n",
       "      <th>SalePrice</th>\n",
       "    </tr>\n",
       "  </thead>\n",
       "  <tbody>\n",
       "    <tr>\n",
       "      <th>0</th>\n",
       "      <td>2003</td>\n",
       "      <td>854</td>\n",
       "      <td>1710</td>\n",
       "      <td>2</td>\n",
       "      <td>1</td>\n",
       "      <td>3</td>\n",
       "      <td>8</td>\n",
       "      <td>2008</td>\n",
       "      <td>208500</td>\n",
       "    </tr>\n",
       "    <tr>\n",
       "      <th>1</th>\n",
       "      <td>1976</td>\n",
       "      <td>0</td>\n",
       "      <td>1262</td>\n",
       "      <td>2</td>\n",
       "      <td>0</td>\n",
       "      <td>3</td>\n",
       "      <td>6</td>\n",
       "      <td>2007</td>\n",
       "      <td>181500</td>\n",
       "    </tr>\n",
       "    <tr>\n",
       "      <th>2</th>\n",
       "      <td>2001</td>\n",
       "      <td>866</td>\n",
       "      <td>1786</td>\n",
       "      <td>2</td>\n",
       "      <td>1</td>\n",
       "      <td>3</td>\n",
       "      <td>6</td>\n",
       "      <td>2008</td>\n",
       "      <td>223500</td>\n",
       "    </tr>\n",
       "    <tr>\n",
       "      <th>3</th>\n",
       "      <td>1915</td>\n",
       "      <td>756</td>\n",
       "      <td>1717</td>\n",
       "      <td>1</td>\n",
       "      <td>0</td>\n",
       "      <td>3</td>\n",
       "      <td>7</td>\n",
       "      <td>2006</td>\n",
       "      <td>140000</td>\n",
       "    </tr>\n",
       "    <tr>\n",
       "      <th>4</th>\n",
       "      <td>2000</td>\n",
       "      <td>1053</td>\n",
       "      <td>2198</td>\n",
       "      <td>2</td>\n",
       "      <td>1</td>\n",
       "      <td>4</td>\n",
       "      <td>9</td>\n",
       "      <td>2008</td>\n",
       "      <td>250000</td>\n",
       "    </tr>\n",
       "  </tbody>\n",
       "</table>\n",
       "</div>"
      ],
      "text/plain": [
       "   YearBuilt  2ndFlrSF  GrLivArea  FullBath  HalfBath  BedroomAbvGr  \\\n",
       "0       2003       854       1710         2         1             3   \n",
       "1       1976         0       1262         2         0             3   \n",
       "2       2001       866       1786         2         1             3   \n",
       "3       1915       756       1717         1         0             3   \n",
       "4       2000      1053       2198         2         1             4   \n",
       "\n",
       "   TotRmsAbvGrd  YrSold  SalePrice  \n",
       "0             8    2008     208500  \n",
       "1             6    2007     181500  \n",
       "2             6    2008     223500  \n",
       "3             7    2006     140000  \n",
       "4             9    2008     250000  "
      ]
     },
     "execution_count": 52,
     "metadata": {},
     "output_type": "execute_result"
    }
   ],
   "source": [
    "df.head()"
   ]
  },
  {
   "cell_type": "code",
   "execution_count": 53,
   "metadata": {},
   "outputs": [],
   "source": [
    "x = df.drop(columns=['SalePrice'])\n",
    "y = df[['SalePrice']]"
   ]
  },
  {
   "cell_type": "code",
   "execution_count": 54,
   "metadata": {},
   "outputs": [],
   "source": [
    "# x\n",
    "# y"
   ]
  },
  {
   "cell_type": "code",
   "execution_count": 55,
   "metadata": {},
   "outputs": [],
   "source": [
    "model = keras.Sequential()\n",
    "model.add(keras.layers.Dense(8, activation='relu',input_shape=(8,)))\n",
    "model.add(keras.layers.Dense(8, activation='relu'))\n",
    "model.add(keras.layers.Dense(8, activation='relu'))\n",
    "model.add(keras.layers.Dense(1, activation='relu'))\n",
    "\n",
    "model.compile(optimizer='adam',loss='mse')"
   ]
  },
  {
   "cell_type": "markdown",
   "metadata": {},
   "source": [
    "To Avoid Overfitting , We are using Early Stopping \n",
    "\n",
    "Kmeans jaise vo epochs run krte jayega & jo point pe ushe improvment band hote huye dikhega vaha pr vo rukkjayega chahe epochs hua hoo ya na hua hoo"
   ]
  },
  {
   "cell_type": "code",
   "execution_count": 56,
   "metadata": {},
   "outputs": [
    {
     "name": "stdout",
     "output_type": "stream",
     "text": [
      "Epoch 1/30\n"
     ]
    },
    {
     "name": "stdout",
     "output_type": "stream",
     "text": [
      "141/146 [===========================>..] - ETA: 0s - loss: 38979887104.0000WARNING:tensorflow:Early stopping conditioned on metric `val_loss` which is not available. Available metrics are: loss\n",
      "146/146 [==============================] - 2s 4ms/step - loss: 38919921664.0000\n",
      "Epoch 2/30\n",
      "139/146 [===========================>..] - ETA: 0s - loss: 37324488704.0000WARNING:tensorflow:Early stopping conditioned on metric `val_loss` which is not available. Available metrics are: loss\n",
      "146/146 [==============================] - 0s 3ms/step - loss: 37194764288.0000\n",
      "Epoch 3/30\n",
      "132/146 [==========================>...] - ETA: 0s - loss: 29045225472.0000WARNING:tensorflow:Early stopping conditioned on metric `val_loss` which is not available. Available metrics are: loss\n",
      "146/146 [==============================] - 0s 3ms/step - loss: 28278902784.0000\n",
      "Epoch 4/30\n",
      "141/146 [===========================>..] - ETA: 0s - loss: 12660024320.0000WARNING:tensorflow:Early stopping conditioned on metric `val_loss` which is not available. Available metrics are: loss\n",
      "146/146 [==============================] - 0s 3ms/step - loss: 12377300992.0000\n",
      "Epoch 5/30\n",
      "139/146 [===========================>..] - ETA: 0s - loss: 4997157888.0000WARNING:tensorflow:Early stopping conditioned on metric `val_loss` which is not available. Available metrics are: loss\n",
      "146/146 [==============================] - 0s 3ms/step - loss: 4949804032.0000\n",
      "Epoch 6/30\n",
      "130/146 [=========================>....] - ETA: 0s - loss: 4352742400.0000WARNING:tensorflow:Early stopping conditioned on metric `val_loss` which is not available. Available metrics are: loss\n",
      "146/146 [==============================] - 0s 2ms/step - loss: 4373916160.0000\n",
      "Epoch 7/30\n",
      "138/146 [===========================>..] - ETA: 0s - loss: 4173079552.0000WARNING:tensorflow:Early stopping conditioned on metric `val_loss` which is not available. Available metrics are: loss\n",
      "146/146 [==============================] - 0s 3ms/step - loss: 4344881152.0000\n",
      "Epoch 8/30\n",
      "141/146 [===========================>..] - ETA: 0s - loss: 4291852800.0000WARNING:tensorflow:Early stopping conditioned on metric `val_loss` which is not available. Available metrics are: loss\n",
      "146/146 [==============================] - 1s 4ms/step - loss: 4315745792.0000\n",
      "Epoch 9/30\n",
      "136/146 [==========================>...] - ETA: 0s - loss: 4221688320.0000WARNING:tensorflow:Early stopping conditioned on metric `val_loss` which is not available. Available metrics are: loss\n",
      "146/146 [==============================] - 1s 3ms/step - loss: 4286464512.0000\n",
      "Epoch 10/30\n",
      "143/146 [============================>.] - ETA: 0s - loss: 4272545024.0000WARNING:tensorflow:Early stopping conditioned on metric `val_loss` which is not available. Available metrics are: loss\n",
      "146/146 [==============================] - 1s 4ms/step - loss: 4255272960.0000\n",
      "Epoch 11/30\n",
      "133/146 [==========================>...] - ETA: 0s - loss: 4259603456.0000WARNING:tensorflow:Early stopping conditioned on metric `val_loss` which is not available. Available metrics are: loss\n",
      "146/146 [==============================] - 1s 3ms/step - loss: 4225935104.0000\n",
      "Epoch 12/30\n",
      "135/146 [==========================>...] - ETA: 0s - loss: 4218741248.0000WARNING:tensorflow:Early stopping conditioned on metric `val_loss` which is not available. Available metrics are: loss\n",
      "146/146 [==============================] - 1s 4ms/step - loss: 4188728832.0000\n",
      "Epoch 13/30\n",
      "140/146 [===========================>..] - ETA: 0s - loss: 4147108352.0000WARNING:tensorflow:Early stopping conditioned on metric `val_loss` which is not available. Available metrics are: loss\n",
      "146/146 [==============================] - 1s 4ms/step - loss: 4158599936.0000\n",
      "Epoch 14/30\n",
      "135/146 [==========================>...] - ETA: 0s - loss: 4095442432.0000WARNING:tensorflow:Early stopping conditioned on metric `val_loss` which is not available. Available metrics are: loss\n",
      "146/146 [==============================] - 1s 3ms/step - loss: 4131037184.0000\n",
      "Epoch 15/30\n",
      "144/146 [============================>.] - ETA: 0s - loss: 4103754752.0000WARNING:tensorflow:Early stopping conditioned on metric `val_loss` which is not available. Available metrics are: loss\n",
      "146/146 [==============================] - 1s 4ms/step - loss: 4105652992.0000\n",
      "Epoch 16/30\n",
      "144/146 [============================>.] - ETA: 0s - loss: 4114041344.0000WARNING:tensorflow:Early stopping conditioned on metric `val_loss` which is not available. Available metrics are: loss\n",
      "146/146 [==============================] - 1s 4ms/step - loss: 4091373824.0000\n",
      "Epoch 17/30\n",
      "130/146 [=========================>....] - ETA: 0s - loss: 4037913856.0000WARNING:tensorflow:Early stopping conditioned on metric `val_loss` which is not available. Available metrics are: loss\n",
      "146/146 [==============================] - 1s 4ms/step - loss: 4040874240.0000\n",
      "Epoch 18/30\n",
      "143/146 [============================>.] - ETA: 0s - loss: 4026954496.0000WARNING:tensorflow:Early stopping conditioned on metric `val_loss` which is not available. Available metrics are: loss\n",
      "146/146 [==============================] - 0s 3ms/step - loss: 4007523072.0000\n",
      "Epoch 19/30\n",
      "132/146 [==========================>...] - ETA: 0s - loss: 3975293440.0000WARNING:tensorflow:Early stopping conditioned on metric `val_loss` which is not available. Available metrics are: loss\n",
      "146/146 [==============================] - 0s 3ms/step - loss: 3980146432.0000\n",
      "Epoch 20/30\n",
      "140/146 [===========================>..] - ETA: 0s - loss: 3969470464.0000WARNING:tensorflow:Early stopping conditioned on metric `val_loss` which is not available. Available metrics are: loss\n",
      "146/146 [==============================] - 0s 3ms/step - loss: 3960250368.0000\n",
      "Epoch 21/30\n",
      "129/146 [=========================>....] - ETA: 0s - loss: 3830147072.0000WARNING:tensorflow:Early stopping conditioned on metric `val_loss` which is not available. Available metrics are: loss\n",
      "146/146 [==============================] - 1s 4ms/step - loss: 3921060864.0000\n",
      "Epoch 22/30\n",
      "140/146 [===========================>..] - ETA: 0s - loss: 3836511232.0000WARNING:tensorflow:Early stopping conditioned on metric `val_loss` which is not available. Available metrics are: loss\n",
      "146/146 [==============================] - 0s 3ms/step - loss: 3884858368.0000\n",
      "Epoch 23/30\n",
      "138/146 [===========================>..] - ETA: 0s - loss: 3860114432.0000WARNING:tensorflow:Early stopping conditioned on metric `val_loss` which is not available. Available metrics are: loss\n",
      "146/146 [==============================] - 0s 3ms/step - loss: 3848507648.0000\n",
      "Epoch 24/30\n",
      "137/146 [===========================>..] - ETA: 0s - loss: 3831663104.0000WARNING:tensorflow:Early stopping conditioned on metric `val_loss` which is not available. Available metrics are: loss\n",
      "146/146 [==============================] - 0s 3ms/step - loss: 3831198720.0000\n",
      "Epoch 25/30\n",
      "144/146 [============================>.] - ETA: 0s - loss: 3807219712.0000WARNING:tensorflow:Early stopping conditioned on metric `val_loss` which is not available. Available metrics are: loss\n",
      "146/146 [==============================] - 1s 6ms/step - loss: 3799777024.0000\n",
      "Epoch 26/30\n",
      "129/146 [=========================>....] - ETA: 0s - loss: 3801225728.0000WARNING:tensorflow:Early stopping conditioned on metric `val_loss` which is not available. Available metrics are: loss\n",
      "146/146 [==============================] - 0s 3ms/step - loss: 3773702144.0000\n",
      "Epoch 27/30\n",
      "130/146 [=========================>....] - ETA: 0s - loss: 3787429888.0000WARNING:tensorflow:Early stopping conditioned on metric `val_loss` which is not available. Available metrics are: loss\n",
      "146/146 [==============================] - 0s 3ms/step - loss: 3734029824.0000\n",
      "Epoch 28/30\n",
      "133/146 [==========================>...] - ETA: 0s - loss: 3760912896.0000WARNING:tensorflow:Early stopping conditioned on metric `val_loss` which is not available. Available metrics are: loss\n",
      "146/146 [==============================] - 0s 3ms/step - loss: 3709252864.0000\n",
      "Epoch 29/30\n",
      "129/146 [=========================>....] - ETA: 0s - loss: 3679523584.0000WARNING:tensorflow:Early stopping conditioned on metric `val_loss` which is not available. Available metrics are: loss\n",
      "146/146 [==============================] - 0s 2ms/step - loss: 3681148928.0000\n",
      "Epoch 30/30\n",
      "143/146 [============================>.] - ETA: 0s - loss: 3673178624.0000WARNING:tensorflow:Early stopping conditioned on metric `val_loss` which is not available. Available metrics are: loss\n",
      "146/146 [==============================] - 0s 2ms/step - loss: 3649256960.0000\n"
     ]
    },
    {
     "data": {
      "text/plain": [
       "<keras.src.callbacks.History at 0x2b8eacde7f0>"
      ]
     },
     "execution_count": 56,
     "metadata": {},
     "output_type": "execute_result"
    }
   ],
   "source": [
    "model.fit(x,y,epochs=30,batch_size=10, callbacks=[keras.callbacks.EarlyStopping(patience=5)])"
   ]
  },
  {
   "cell_type": "code",
   "execution_count": 57,
   "metadata": {},
   "outputs": [],
   "source": [
    "test_data = np.array([2003,854,1710,2,1,3,8,2008])"
   ]
  },
  {
   "cell_type": "code",
   "execution_count": 58,
   "metadata": {},
   "outputs": [],
   "source": [
    "# test_data"
   ]
  },
  {
   "cell_type": "code",
   "execution_count": 59,
   "metadata": {},
   "outputs": [],
   "source": [
    "# test_data.reshape(1,8)"
   ]
  },
  {
   "cell_type": "code",
   "execution_count": 60,
   "metadata": {},
   "outputs": [
    {
     "name": "stdout",
     "output_type": "stream",
     "text": [
      "1/1 [==============================] - 0s 125ms/step\n",
      "[[207111.2]]\n"
     ]
    }
   ],
   "source": [
    "test_data = np.array([2003,854,1710,2,1,3,8,2008])\n",
    "print(model.predict(test_data.reshape(1,8), batch_size=1))"
   ]
  },
  {
   "cell_type": "markdown",
   "metadata": {},
   "source": [
    "### Saving Model & Using Them "
   ]
  },
  {
   "cell_type": "code",
   "execution_count": 61,
   "metadata": {},
   "outputs": [
    {
     "name": "stderr",
     "output_type": "stream",
     "text": [
      "C:\\Users\\hp\\AppData\\Roaming\\Python\\Python39\\site-packages\\keras\\src\\engine\\training.py:3079: UserWarning: You are saving your model as an HDF5 file via `model.save()`. This file format is considered legacy. We recommend using instead the native Keras format, e.g. `model.save('my_model.keras')`.\n",
      "  saving_api.save_model(\n"
     ]
    }
   ],
   "source": [
    "model.save('housingK3Model.h5')"
   ]
  },
  {
   "cell_type": "code",
   "execution_count": 62,
   "metadata": {},
   "outputs": [],
   "source": [
    "old_Model = keras.models.load_model('housingK3Model.h5')"
   ]
  },
  {
   "cell_type": "code",
   "execution_count": 64,
   "metadata": {},
   "outputs": [
    {
     "name": "stdout",
     "output_type": "stream",
     "text": [
      "1/1 [==============================] - 0s 56ms/step\n",
      "[[207111.2]]\n"
     ]
    }
   ],
   "source": [
    "print(old_Model.predict(test_data.reshape(1,8), batch_size=1))"
   ]
  }
 ],
 "metadata": {
  "kernelspec": {
   "display_name": "base",
   "language": "python",
   "name": "python3"
  },
  "language_info": {
   "codemirror_mode": {
    "name": "ipython",
    "version": 3
   },
   "file_extension": ".py",
   "mimetype": "text/x-python",
   "name": "python",
   "nbconvert_exporter": "python",
   "pygments_lexer": "ipython3",
   "version": "3.9.13"
  }
 },
 "nbformat": 4,
 "nbformat_minor": 2
}
