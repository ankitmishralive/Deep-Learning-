{
 "cells": [
  {
   "cell_type": "markdown",
   "metadata": {},
   "source": [
    "### Just For exploration purpose into Keras, \n",
    "### will checkout 3 to 4 projects one by one\n"
   ]
  },
  {
   "cell_type": "markdown",
   "metadata": {},
   "source": [
    "# 1. Linear Regression "
   ]
  },
  {
   "cell_type": "code",
   "execution_count": 3,
   "metadata": {},
   "outputs": [],
   "source": [
    "import keras\n",
    "import numpy as np \n",
    "import pandas as pd \n",
    "import matplotlib.pyplot as plt "
   ]
  },
  {
   "cell_type": "code",
   "execution_count": 5,
   "metadata": {},
   "outputs": [],
   "source": [
    "df=pd.read_csv(\"./Corpus/IowaHousingPrices.csv\")"
   ]
  },
  {
   "cell_type": "code",
   "execution_count": 7,
   "metadata": {},
   "outputs": [
    {
     "data": {
      "text/html": [
       "<div>\n",
       "<style scoped>\n",
       "    .dataframe tbody tr th:only-of-type {\n",
       "        vertical-align: middle;\n",
       "    }\n",
       "\n",
       "    .dataframe tbody tr th {\n",
       "        vertical-align: top;\n",
       "    }\n",
       "\n",
       "    .dataframe thead th {\n",
       "        text-align: right;\n",
       "    }\n",
       "</style>\n",
       "<table border=\"1\" class=\"dataframe\">\n",
       "  <thead>\n",
       "    <tr style=\"text-align: right;\">\n",
       "      <th></th>\n",
       "      <th>SquareFeet</th>\n",
       "      <th>SalePrice</th>\n",
       "    </tr>\n",
       "  </thead>\n",
       "  <tbody>\n",
       "    <tr>\n",
       "      <th>783</th>\n",
       "      <td>1110</td>\n",
       "      <td>165500</td>\n",
       "    </tr>\n",
       "    <tr>\n",
       "      <th>95</th>\n",
       "      <td>1470</td>\n",
       "      <td>185000</td>\n",
       "    </tr>\n",
       "    <tr>\n",
       "      <th>124</th>\n",
       "      <td>1586</td>\n",
       "      <td>181000</td>\n",
       "    </tr>\n",
       "    <tr>\n",
       "      <th>1361</th>\n",
       "      <td>1530</td>\n",
       "      <td>260000</td>\n",
       "    </tr>\n",
       "    <tr>\n",
       "      <th>1166</th>\n",
       "      <td>1694</td>\n",
       "      <td>245350</td>\n",
       "    </tr>\n",
       "  </tbody>\n",
       "</table>\n",
       "</div>"
      ],
      "text/plain": [
       "      SquareFeet  SalePrice\n",
       "783         1110     165500\n",
       "95          1470     185000\n",
       "124         1586     181000\n",
       "1361        1530     260000\n",
       "1166        1694     245350"
      ]
     },
     "execution_count": 7,
     "metadata": {},
     "output_type": "execute_result"
    }
   ],
   "source": [
    "df.sample(5)"
   ]
  },
  {
   "cell_type": "code",
   "execution_count": 25,
   "metadata": {},
   "outputs": [],
   "source": [
    "x = df[['SquareFeet']].values\n",
    "y = df[['SalePrice']].values"
   ]
  },
  {
   "cell_type": "code",
   "execution_count": 38,
   "metadata": {},
   "outputs": [],
   "source": [
    "# from tensorflow import keras \n",
    "# from tensorflow.keras import Sequential\n",
    "# from tensorflow.keras.layers import Dense"
   ]
  },
  {
   "cell_type": "markdown",
   "metadata": {},
   "source": [
    "modelK3 = keras.Sequential()\n",
    "modelK3.add(keras.Input(shape=(1,)))\n",
    "modelK3.add(keras.layers.Dense(1))\n",
    "modelK3.compile(optimizer=keras.optimizers.Adam(learning_rate=1), loss='mse')\n",
    "modelK3.fit(x,y,epochs=30,batch_size=10)"
   ]
  },
  {
   "cell_type": "code",
   "execution_count": 30,
   "metadata": {},
   "outputs": [
    {
     "name": "stdout",
     "output_type": "stream",
     "text": [
      "Epoch 1/30\n",
      "146/146 [==============================] - 1s 3ms/step - loss: 14528983040.0000\n",
      "Epoch 2/30\n",
      "146/146 [==============================] - 0s 3ms/step - loss: 3338168320.0000\n",
      "Epoch 3/30\n",
      "146/146 [==============================] - 1s 4ms/step - loss: 3186911488.0000\n",
      "Epoch 4/30\n",
      "146/146 [==============================] - 0s 3ms/step - loss: 3181065472.0000\n",
      "Epoch 5/30\n",
      "146/146 [==============================] - 0s 3ms/step - loss: 3197293824.0000\n",
      "Epoch 6/30\n",
      "146/146 [==============================] - 0s 2ms/step - loss: 3200023296.0000\n",
      "Epoch 7/30\n",
      "146/146 [==============================] - 0s 3ms/step - loss: 3192254976.0000\n",
      "Epoch 8/30\n",
      "146/146 [==============================] - 0s 3ms/step - loss: 3210538240.0000\n",
      "Epoch 9/30\n",
      "146/146 [==============================] - 0s 3ms/step - loss: 3203734016.0000\n",
      "Epoch 10/30\n",
      "146/146 [==============================] - 0s 3ms/step - loss: 3190320896.0000\n",
      "Epoch 11/30\n",
      "146/146 [==============================] - 0s 3ms/step - loss: 3196007168.0000\n",
      "Epoch 12/30\n",
      "146/146 [==============================] - 0s 3ms/step - loss: 3192224768.0000\n",
      "Epoch 13/30\n",
      "146/146 [==============================] - 0s 3ms/step - loss: 3197515776.0000\n",
      "Epoch 14/30\n",
      "146/146 [==============================] - 0s 3ms/step - loss: 3201595904.0000\n",
      "Epoch 15/30\n",
      "146/146 [==============================] - 0s 3ms/step - loss: 3179981312.0000\n",
      "Epoch 16/30\n",
      "146/146 [==============================] - 0s 3ms/step - loss: 3198661632.0000\n",
      "Epoch 17/30\n",
      "146/146 [==============================] - 0s 3ms/step - loss: 3202452480.0000\n",
      "Epoch 18/30\n",
      "146/146 [==============================] - 1s 4ms/step - loss: 3204180480.0000\n",
      "Epoch 19/30\n",
      "146/146 [==============================] - 0s 3ms/step - loss: 3211060480.0000\n",
      "Epoch 20/30\n",
      "146/146 [==============================] - 0s 2ms/step - loss: 3200802048.0000\n",
      "Epoch 21/30\n",
      "146/146 [==============================] - 0s 3ms/step - loss: 3197554944.0000\n",
      "Epoch 22/30\n",
      "146/146 [==============================] - 1s 4ms/step - loss: 3193950976.0000\n",
      "Epoch 23/30\n",
      "146/146 [==============================] - 0s 3ms/step - loss: 3210087936.0000\n",
      "Epoch 24/30\n",
      "146/146 [==============================] - 0s 3ms/step - loss: 3202522880.0000\n",
      "Epoch 25/30\n",
      "146/146 [==============================] - 0s 3ms/step - loss: 3197729024.0000\n",
      "Epoch 26/30\n",
      "146/146 [==============================] - 1s 4ms/step - loss: 3208971776.0000\n",
      "Epoch 27/30\n",
      "146/146 [==============================] - 0s 3ms/step - loss: 3190621696.0000\n",
      "Epoch 28/30\n",
      "146/146 [==============================] - 0s 3ms/step - loss: 3177080832.0000\n",
      "Epoch 29/30\n",
      "146/146 [==============================] - 0s 3ms/step - loss: 3243456256.0000\n",
      "Epoch 30/30\n",
      "146/146 [==============================] - 0s 3ms/step - loss: 3188646656.0000\n"
     ]
    },
    {
     "data": {
      "text/plain": [
       "<keras.src.callbacks.History at 0x166d0ababe0>"
      ]
     },
     "execution_count": 30,
     "metadata": {},
     "output_type": "execute_result"
    }
   ],
   "source": [
    "model = keras.Sequential() \n",
    "model.add(keras.layers.Dense(1,input_shape=(1,)))\n",
    "model.compile(keras.optimizers.Adam(learning_rate=1),'mean_squared_error')\n",
    "model.fit(x,y,epochs=30,batch_size=10) #if batch size is to high then model can crash, efficiency mai itna role nahi hai batch size ka\n"
   ]
  },
  {
   "cell_type": "code",
   "execution_count": 35,
   "metadata": {},
   "outputs": [
    {
     "name": "stdout",
     "output_type": "stream",
     "text": [
      "46/46 [==============================] - 0s 1ms/step\n"
     ]
    },
    {
     "data": {
      "text/plain": [
       "[<matplotlib.lines.Line2D at 0x166d3e2ca60>]"
      ]
     },
     "execution_count": 35,
     "metadata": {},
     "output_type": "execute_result"
    },
    {
     "data": {
      "image/png": "[encoded data removed]",
      "text/plain": [
       "<Figure size 640x480 with 1 Axes>"
      ]
     },
     "metadata": {},
     "output_type": "display_data"
    }
   ],
   "source": [
    "df.plot(kind='scatter', x='SquareFeet', y='SalePrice', title=\"Hosing Price \")\n",
    "\n",
    "y_pred = model.predict(x)\n",
    "plt.plot(x,y_pred,color='red')"
   ]
  },
  {
   "cell_type": "code",
   "execution_count": 63,
   "metadata": {},
   "outputs": [
    {
     "name": "stdout",
     "output_type": "stream",
     "text": [
      "1/1 [==============================] - 0s 280ms/step\n",
      "[[239794.64]]\n"
     ]
    }
   ],
   "source": [
    "newSF = 2000\n",
    "print(model.predict([newSF]))\n"
   ]
  },
  {
   "cell_type": "markdown",
   "metadata": {},
   "source": [
    "## Just Exploring & Doing some experimentation "
   ]
  },
  {
   "cell_type": "markdown",
   "metadata": {},
   "source": []
  },
  {
   "cell_type": "code",
   "execution_count": 56,
   "metadata": {},
   "outputs": [
    {
     "name": "stdout",
     "output_type": "stream",
     "text": [
      "Epoch 1/30\n",
      "146/146 [==============================] - 1s 3ms/step - loss: 14507024384.0000\n",
      "Epoch 2/30\n",
      "146/146 [==============================] - 0s 3ms/step - loss: 3330338304.0000\n",
      "Epoch 3/30\n",
      "146/146 [==============================] - 0s 3ms/step - loss: 3185261056.0000\n",
      "Epoch 4/30\n",
      "146/146 [==============================] - 0s 3ms/step - loss: 3189841408.0000\n",
      "Epoch 5/30\n",
      "146/146 [==============================] - 0s 3ms/step - loss: 3194352384.0000\n",
      "Epoch 6/30\n",
      "146/146 [==============================] - 0s 3ms/step - loss: 3189055488.0000\n",
      "Epoch 7/30\n",
      "146/146 [==============================] - 1s 4ms/step - loss: 3194327040.0000\n",
      "Epoch 8/30\n",
      "146/146 [==============================] - 0s 3ms/step - loss: 3182898944.0000\n",
      "Epoch 9/30\n",
      "146/146 [==============================] - 1s 4ms/step - loss: 3201260800.0000\n",
      "Epoch 10/30\n",
      "146/146 [==============================] - 1s 3ms/step - loss: 3204422144.0000\n",
      "Epoch 11/30\n",
      "146/146 [==============================] - 0s 3ms/step - loss: 3194439680.0000\n",
      "Epoch 12/30\n",
      "146/146 [==============================] - 0s 3ms/step - loss: 3197113856.0000\n",
      "Epoch 13/30\n",
      "146/146 [==============================] - 0s 2ms/step - loss: 3194756864.0000\n",
      "Epoch 14/30\n",
      "146/146 [==============================] - 0s 3ms/step - loss: 3222750208.0000\n",
      "Epoch 15/30\n",
      "146/146 [==============================] - 0s 3ms/step - loss: 3202042368.0000\n",
      "Epoch 16/30\n",
      "146/146 [==============================] - 0s 3ms/step - loss: 3179584000.0000\n",
      "Epoch 17/30\n",
      "146/146 [==============================] - 0s 3ms/step - loss: 3213036288.0000\n",
      "Epoch 18/30\n",
      "146/146 [==============================] - 0s 3ms/step - loss: 3199253760.0000\n",
      "Epoch 19/30\n",
      "146/146 [==============================] - 0s 3ms/step - loss: 3190716160.0000\n",
      "Epoch 20/30\n",
      "146/146 [==============================] - 0s 2ms/step - loss: 3191051520.0000\n",
      "Epoch 21/30\n",
      "146/146 [==============================] - 0s 2ms/step - loss: 3225457920.0000\n",
      "Epoch 22/30\n",
      "146/146 [==============================] - 0s 3ms/step - loss: 3180140288.0000\n",
      "Epoch 23/30\n",
      "146/146 [==============================] - 0s 2ms/step - loss: 3279849728.0000\n",
      "Epoch 24/30\n",
      "146/146 [==============================] - 0s 2ms/step - loss: 3215316736.0000\n",
      "Epoch 25/30\n",
      "146/146 [==============================] - 0s 2ms/step - loss: 3196320000.0000\n",
      "Epoch 26/30\n",
      "146/146 [==============================] - 0s 2ms/step - loss: 3208399360.0000\n",
      "Epoch 27/30\n",
      "146/146 [==============================] - 0s 2ms/step - loss: 3200261888.0000\n",
      "Epoch 28/30\n",
      "146/146 [==============================] - 0s 2ms/step - loss: 3201793536.0000\n",
      "Epoch 29/30\n",
      "146/146 [==============================] - 0s 2ms/step - loss: 3199951616.0000\n",
      "Epoch 30/30\n",
      "146/146 [==============================] - 0s 2ms/step - loss: 3203403264.0000\n"
     ]
    },
    {
     "data": {
      "text/plain": [
       "<keras.src.callbacks.History at 0x166d6d453a0>"
      ]
     },
     "execution_count": 56,
     "metadata": {},
     "output_type": "execute_result"
    }
   ],
   "source": [
    "modelK3 = keras.Sequential()\n",
    "modelK3.add(keras.Input(shape=(1,)))\n",
    "modelK3.add(keras.layers.Dense(1))\n",
    "modelK3.compile(optimizer=keras.optimizers.Adam(learning_rate=1), loss='mse')\n",
    "modelK3.fit(x,y,epochs=30,batch_size=10)\n"
   ]
  },
  {
   "cell_type": "code",
   "execution_count": 57,
   "metadata": {},
   "outputs": [
    {
     "name": "stdout",
     "output_type": "stream",
     "text": [
      "46/46 [==============================] - 0s 3ms/step\n"
     ]
    }
   ],
   "source": [
    "y_predK3 = modelK3.predict(x)"
   ]
  },
  {
   "cell_type": "code",
   "execution_count": 62,
   "metadata": {},
   "outputs": [
    {
     "name": "stdout",
     "output_type": "stream",
     "text": [
      "1/1 [==============================] - 0s 275ms/step\n",
      "[[240585.33]]\n"
     ]
    }
   ],
   "source": [
    "newSF2 = 2000\n",
    "print(modelK3.predict([newSF2]))"
   ]
  },
  {
   "cell_type": "code",
   "execution_count": null,
   "metadata": {},
   "outputs": [],
   "source": [
    "# model = keras.Sequential()\n",
    "# model.add(layers.Dense(2, activation=\"relu\"))\n",
    "# model.add(layers.Dense(3, activation=\"relu\"))\n",
    "# model.add(layers.Dense(4))\n",
    "# model.compile(\n",
    "#     optimizer=keras.optimizers.Adam(learning_rate=1e-3),\n",
    "#     loss=keras.losses.BinaryCrossentropy(),\n",
    "#     metrics=[\n",
    "#         keras.metrics.BinaryAccuracy(),\n",
    "#         keras.metrics.FalseNegatives(),\n",
    "#     ]"
   ]
  },
  {
   "cell_type": "code",
   "execution_count": null,
   "metadata": {},
   "outputs": [],
   "source": []
  },
  {
   "cell_type": "code",
   "execution_count": null,
   "metadata": {},
   "outputs": [],
   "source": []
  }
 ],
 "metadata": {
  "kernelspec": {
   "display_name": "Python 3",
   "language": "python",
   "name": "python3"
  },
  "language_info": {
   "codemirror_mode": {
    "name": "ipython",
    "version": 3
   },
   "file_extension": ".py",
   "mimetype": "text/x-python",
   "name": "python",
   "nbconvert_exporter": "python",
   "pygments_lexer": "ipython3",
   "version": "3.9.13"
  }
 },
 "nbformat": 4,
 "nbformat_minor": 2
}
